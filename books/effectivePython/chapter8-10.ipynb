{
 "cells": [
  {
   "cell_type": "code",
   "execution_count": 1,
   "id": "edebd827",
   "metadata": {},
   "outputs": [],
   "source": [
    "def load_json_key(data, key):\n",
    "    try:\n",
    "        print('* Loading JSON data')\n",
    "        result_dict = json.loads(data) # May raise ValueError\n",
    "    except ValueError as e:\n",
    "        print('* Handling ValueError')\n",
    "        raise KeyError(key) from e\n",
    "    else:\n",
    "        print('* Looking up key')\n",
    "        return result_dict[key] # May raise KeyError"
   ]
  },
  {
   "cell_type": "code",
   "execution_count": 2,
   "id": "de470f36",
   "metadata": {},
   "outputs": [],
   "source": [
    "UNDEFINED = object()\n",
    "def divide_json(path):\n",
    "    print('* Opening file')\n",
    "    handle = open(path, 'r+') # May raise OSError\n",
    "    try:\n",
    "        print('* Reading data')\n",
    "        data = handle.read() # May raise UnicodeDecodeError\n",
    "        print('* Loading JSON data')\n",
    "        op = json.loads(data) # May raise ValueError\n",
    "        print('* Performing calculation')\n",
    "        value = (\n",
    "        op['numerator'] /\n",
    "        op['denominator']) # May raise ZeroDivisionError\n",
    "    except ZeroDivisionError as e:\n",
    "        print('* Handling ZeroDivisionError')\n",
    "        return UNDEFINED\n",
    "    else:\n",
    "        print('* Writing calculation')\n",
    "        op['result'] = value\n",
    "        result = json.dumps(op)\n",
    "        handle.seek(0) # May raise OSError\n",
    "        handle.write(result) # May raise OSError\n",
    "        return value\n",
    "    finally:\n",
    "        print('* Calling close()')\n",
    "        handle.close() # Always runs"
   ]
  },
  {
   "cell_type": "code",
   "execution_count": 3,
   "id": "5f4635c7",
   "metadata": {},
   "outputs": [
    {
     "name": "stdout",
     "output_type": "stream",
     "text": [
      "5.364999999999999\n"
     ]
    }
   ],
   "source": [
    "rate = 1.45\n",
    "seconds = 3*60 + 42\n",
    "cost = rate * seconds / 60\n",
    "print(cost)"
   ]
  },
  {
   "cell_type": "code",
   "execution_count": 4,
   "id": "838db65f",
   "metadata": {},
   "outputs": [
    {
     "name": "stdout",
     "output_type": "stream",
     "text": [
      "5.365\n"
     ]
    }
   ],
   "source": [
    "from decimal import Decimal\n",
    "rate = Decimal('1.45')\n",
    "seconds = Decimal(3*60 + 42)\n",
    "cost = rate * seconds / Decimal(60)\n",
    "print(cost)"
   ]
  },
  {
   "cell_type": "code",
   "execution_count": 5,
   "id": "2516ccae",
   "metadata": {},
   "outputs": [],
   "source": [
    "class Email:\n",
    "    def __init__(self, sender, receiver, message):\n",
    "        self.sender = sender\n",
    "        self.receiver = receiver\n",
    "        self.message = message"
   ]
  },
  {
   "cell_type": "code",
   "execution_count": 6,
   "id": "6da29e2a",
   "metadata": {},
   "outputs": [],
   "source": [
    "class NoEmailError(Exception):\n",
    "    pass"
   ]
  },
  {
   "cell_type": "code",
   "execution_count": 7,
   "id": "88055dfe",
   "metadata": {},
   "outputs": [],
   "source": [
    "class Book:\n",
    "    def __init__(self, title, due_date):\n",
    "        self.title = title\n",
    "        self.due_date = due_date"
   ]
  },
  {
   "cell_type": "code",
   "execution_count": 11,
   "id": "316aebc6",
   "metadata": {},
   "outputs": [],
   "source": [
    "def palindrome(word):\n",
    "    \"\"\"Return True if the given word is a palindrome.\"\"\"\n",
    "    return word == word[::-1]"
   ]
  },
  {
   "cell_type": "code",
   "execution_count": 12,
   "id": "d112591d",
   "metadata": {},
   "outputs": [
    {
     "name": "stdout",
     "output_type": "stream",
     "text": [
      "'Return True if the given word is a palindrome.'\n"
     ]
    }
   ],
   "source": [
    "print(repr(palindrome.__doc__))"
   ]
  },
  {
   "cell_type": "code",
   "execution_count": null,
   "id": "0ccc3d74",
   "metadata": {},
   "outputs": [],
   "source": []
  }
 ],
 "metadata": {
  "kernelspec": {
   "display_name": "Python 3 (ipykernel)",
   "language": "python",
   "name": "python3"
  },
  "language_info": {
   "codemirror_mode": {
    "name": "ipython",
    "version": 3
   },
   "file_extension": ".py",
   "mimetype": "text/x-python",
   "name": "python",
   "nbconvert_exporter": "python",
   "pygments_lexer": "ipython3",
   "version": "3.9.7"
  }
 },
 "nbformat": 4,
 "nbformat_minor": 5
}
