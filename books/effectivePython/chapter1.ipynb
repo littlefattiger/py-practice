{
 "cells": [
  {
   "cell_type": "code",
   "execution_count": 1,
   "id": "e259c4e5",
   "metadata": {},
   "outputs": [
    {
     "name": "stdout",
     "output_type": "stream",
     "text": [
      "The Zen of Python, by Tim Peters\n",
      "\n",
      "Beautiful is better than ugly.\n",
      "Explicit is better than implicit.\n",
      "Simple is better than complex.\n",
      "Complex is better than complicated.\n",
      "Flat is better than nested.\n",
      "Sparse is better than dense.\n",
      "Readability counts.\n",
      "Special cases aren't special enough to break the rules.\n",
      "Although practicality beats purity.\n",
      "Errors should never pass silently.\n",
      "Unless explicitly silenced.\n",
      "In the face of ambiguity, refuse the temptation to guess.\n",
      "There should be one-- and preferably only one --obvious way to do it.\n",
      "Although that way may not be obvious at first unless you're Dutch.\n",
      "Now is better than never.\n",
      "Although never is often better than *right* now.\n",
      "If the implementation is hard to explain, it's a bad idea.\n",
      "If the implementation is easy to explain, it may be a good idea.\n",
      "Namespaces are one honking great idea -- let's do more of those!\n"
     ]
    }
   ],
   "source": [
    "import this"
   ]
  },
  {
   "cell_type": "code",
   "execution_count": 2,
   "id": "7351ea78",
   "metadata": {},
   "outputs": [
    {
     "name": "stdout",
     "output_type": "stream",
     "text": [
      "Python 3.9.7\n"
     ]
    }
   ],
   "source": [
    "!python --version"
   ]
  },
  {
   "cell_type": "markdown",
   "id": "1e18c8fc",
   "metadata": {},
   "source": [
    "- Python 3 is the most up-to-date and well-supported version of Python, and you should use it for your projects.\n",
    "- Be sure that the command-line executable for running Python on your system is the version you expect it to be.\n",
    "- Avoid Python 2 because it will no longer be maintained after January 1, 2020."
   ]
  },
  {
   "cell_type": "code",
   "execution_count": null,
   "id": "af744f20",
   "metadata": {},
   "outputs": [],
   "source": [
    "Whitespace\n",
    "In Python, whitespace is syntactically significant. Python program\u0002mers are especially sensitive to the effects of whitespace on code \n",
    "clarity. Follow these guidelines related to whitespace:\n",
    " ■ Use spaces instead of tabs for indentation.\n",
    " ■ Use four spaces for each level of syntactically significant indenting.\n",
    " ■ Lines should be 79 characters in length or less.\n",
    " ■ Continuations of long expressions onto additional lines should \n",
    "be indented by four extra spaces from their normal indentation \n",
    "level.\n",
    " ■ In a file, functions and classes should be separated by two blank \n",
    "lines.\n",
    " ■ In a class, methods should be separated by one blank line.\n",
    " ■ In a dictionary, put no whitespace between each key and colon, \n",
    "and put a single space before the corresponding value if it fits on \n",
    "the same line.\n",
    " ■ Put one—and only one—space before and after the = operator in a \n",
    "variable assignment.\n",
    " ■ For type annotations, ensure that there is no separation between \n",
    "the variable name and the colon, and use a space before the type \n",
    "information."
   ]
  },
  {
   "cell_type": "code",
   "execution_count": null,
   "id": "b1a3114b",
   "metadata": {},
   "outputs": [],
   "source": [
    "Naming\n",
    "PEP 8 suggests unique styles of naming for different parts in the \n",
    "language. These conventions make it easy to distinguish which type\n",
    "corresponds to each name when reading code. Follow these guidelines \n",
    "related to naming:\n",
    " ■ Functions, variables, and attributes should be in lowercase_\n",
    "underscore format.\n",
    " ■ Protected instance attributes should be in _leading_underscore\n",
    "format.\n",
    " ■ Private instance attributes should be in __double_leading_\n",
    "underscore format.\n",
    " ■ Classes (including exceptions) should be in CapitalizedWord\n",
    "format.\n",
    " ■ Module-level constants should be in ALL_CAPS format.\n",
    " ■ Instance methods in classes should use self, which refers to the \n",
    "object, as the name of the first parameter.\n",
    " ■ Class methods should use cls, which refers to the class, as the \n",
    "name of the first parameter."
   ]
  },
  {
   "cell_type": "code",
   "execution_count": null,
   "id": "f1b4b5d7",
   "metadata": {},
   "outputs": [],
   "source": [
    "Expressions and Statements\n",
    "The Zen of Python states: “There should be one—and preferably only \n",
    "one—obvious way to do it.” PEP 8 attempts to codify this style in its \n",
    "guidance for expressions and statements:\n",
    " ■ Use inline negation (if a is not b) instead of negation of positive \n",
    "expressions (if not a is b).\n",
    " ■ Don’t check for empty containers or sequences (like [] or '') \n",
    "by comparing the length to zero (if len(somelist) == 0). Use \n",
    "if not somelist and assume that empty values will implicitly \n",
    "evaluate to False.\n",
    " ■ The same thing goes for non-empty containers or sequences (like \n",
    "[1] or 'hi'). The statement if somelist is implicitly True for non\u0002empty values.\n",
    " ■ Avoid single-line if statements, for and while loops, and except\n",
    "compound statements. Spread these over multiple lines for \n",
    "clarity.\n",
    " ■ If you can’t fit an expression on one line, surround it with paren\u0002theses and add line breaks and indentation to make it easier to \n",
    "read.\n",
    " ■ Prefer surrounding multiline expressions with parentheses over \n",
    "using the \\ line continuation character."
   ]
  },
  {
   "cell_type": "code",
   "execution_count": null,
   "id": "9e1c507a",
   "metadata": {},
   "outputs": [],
   "source": [
    "Imports\n",
    "PEP 8 suggests some guidelines for how to import modules and use \n",
    "them in your code:\n",
    " ■ Always put import statements (including from x import y) at the \n",
    "top of a file.\n",
    " ■ Always use absolute names for modules when importing them, not \n",
    "names relative to the current module’s own path. For example, to \n",
    "import the foo module from within the bar package, you should \n",
    "use from bar import foo, not just import foo.\n",
    " ■ If you must do relative imports, use the explicit syntax \n",
    "from . import foo.\n",
    " ■ Imports should be in sections in the following order: standard \n",
    "library modules, third-party modules, your own modules. Each \n",
    "subsection should have imports in alphabetical order."
   ]
  },
  {
   "cell_type": "code",
   "execution_count": 6,
   "id": "2c1133fb",
   "metadata": {},
   "outputs": [
    {
     "name": "stdout",
     "output_type": "stream",
     "text": [
      "[104, 101, 108, 108, 111]\n",
      "b'hello'\n"
     ]
    }
   ],
   "source": [
    "a = b'h\\x65llo'\n",
    "print(list(a))\n",
    "print(a)"
   ]
  },
  {
   "cell_type": "code",
   "execution_count": 7,
   "id": "6ffc6d51",
   "metadata": {},
   "outputs": [
    {
     "name": "stdout",
     "output_type": "stream",
     "text": [
      "['a', '̀', ' ', 'p', 'r', 'o', 'p', 'o', 's']\n",
      "à propos\n"
     ]
    }
   ],
   "source": [
    "a = 'a\\u0300 propos'\n",
    "print(list(a))\n",
    "print(a)"
   ]
  },
  {
   "cell_type": "code",
   "execution_count": 9,
   "id": "1223d411",
   "metadata": {},
   "outputs": [],
   "source": [
    "def to_str(bytes_or_str):\n",
    "    if isinstance(bytes_or_str, bytes):\n",
    "        value = bytes_or_str.decode('utf-8')\n",
    "    else:\n",
    "        value = bytes_or_str\n",
    "        return value # Instance of str"
   ]
  },
  {
   "cell_type": "code",
   "execution_count": 10,
   "id": "dd6afd39",
   "metadata": {},
   "outputs": [
    {
     "name": "stdout",
     "output_type": "stream",
     "text": [
      "None\n",
      "'bar'\n"
     ]
    }
   ],
   "source": [
    "print(repr(to_str(b'foo')))\n",
    "print(repr(to_str('bar')))"
   ]
  },
  {
   "cell_type": "code",
   "execution_count": 11,
   "id": "3b68a957",
   "metadata": {},
   "outputs": [
    {
     "name": "stdout",
     "output_type": "stream",
     "text": [
      "b'foo'\n",
      "None\n"
     ]
    }
   ],
   "source": [
    "def to_bytes(bytes_or_str):\n",
    "    if isinstance(bytes_or_str, str):\n",
    "        value = bytes_or_str.encode('utf-8')\n",
    "    else:\n",
    "        value = bytes_or_str\n",
    "        return value # Instance of bytes\n",
    "print(repr(to_bytes(b'foo')))\n",
    "print(repr(to_bytes('bar')))"
   ]
  },
  {
   "cell_type": "code",
   "execution_count": null,
   "id": "6d233feb",
   "metadata": {},
   "outputs": [],
   "source": [
    "Things to Remember\n",
    "✦ bytes contains sequences of 8-bit values, and str contains \n",
    "sequences of Unicode code points.\n",
    "✦ Use helper functions to ensure that the inputs you operate on \n",
    "are the type of character sequence that you expect (8-bit values, \n",
    "UTF-8-encoded strings, Unicode code points, etc).\n",
    "✦ bytes and str instances can’t be used together with operators (like \n",
    ">, ==, +, and %).\n",
    "✦ If you want to read or write binary data to/from a file, always open \n",
    "the file using a binary mode (like 'rb' or 'wb').\n",
    "✦ If you want to read or write Unicode data to/from a file, be care\u0002ful about your system’s default text encoding. Explicitly pass the \n",
    "encoding parameter to open if you want to avoid surprises."
   ]
  },
  {
   "cell_type": "code",
   "execution_count": 12,
   "id": "f2df8244",
   "metadata": {},
   "outputs": [
    {
     "name": "stdout",
     "output_type": "stream",
     "text": [
      "Binary is 187, hex is 3167\n"
     ]
    }
   ],
   "source": [
    "a = 0b10111011\n",
    "b = 0xc5f\n",
    "print('Binary is %d, hex is %d' % (a, b))"
   ]
  },
  {
   "cell_type": "code",
   "execution_count": 13,
   "id": "6241b630",
   "metadata": {},
   "outputs": [
    {
     "name": "stdout",
     "output_type": "stream",
     "text": [
      "#0: avocados   = 1.25\n",
      "#1: bananas    = 2.50\n",
      "#2: cherries   = 15.00\n"
     ]
    }
   ],
   "source": [
    "pantry = [\n",
    " ('avocados', 1.25),\n",
    " ('bananas', 2.5),\n",
    " ('cherries', 15),\n",
    "]\n",
    "for i, (item, count) in enumerate(pantry):\n",
    "    print('#%d: %-10s = %.2f' % (i, item, count))"
   ]
  },
  {
   "cell_type": "code",
   "execution_count": 14,
   "id": "49fa68ff",
   "metadata": {},
   "outputs": [],
   "source": [
    "key = 'my_var'\n",
    "value = 1.234\n",
    "old_way = '%-10s = %.2f' % (key, value)\n",
    "new_way = '%(key)-10s = %(value).2f' % {\n",
    " 'key': key, 'value': value} # Original\n",
    "reordered = '%(key)-10s = %(value).2f' % {\n",
    " 'value': value, 'key': key} # Swapped"
   ]
  },
  {
   "cell_type": "code",
   "execution_count": 16,
   "id": "f727a8c4",
   "metadata": {},
   "outputs": [
    {
     "data": {
      "text/plain": [
       "True"
      ]
     },
     "execution_count": 16,
     "metadata": {},
     "output_type": "execute_result"
    }
   ],
   "source": [
    "old_way == new_way == reordered"
   ]
  },
  {
   "cell_type": "code",
   "execution_count": 17,
   "id": "a2b09152",
   "metadata": {},
   "outputs": [
    {
     "name": "stdout",
     "output_type": "stream",
     "text": [
      "1,234.57\n",
      "*      my string       *\n"
     ]
    }
   ],
   "source": [
    "a = 1234.5678\n",
    "formatted = format(a, ',.2f')\n",
    "print(formatted)\n",
    "b = 'my string'\n",
    "formatted = format(b, '^20s')\n",
    "print('*', formatted, '*')"
   ]
  },
  {
   "cell_type": "code",
   "execution_count": 18,
   "id": "87f3622c",
   "metadata": {},
   "outputs": [
    {
     "name": "stdout",
     "output_type": "stream",
     "text": [
      "my_var = 1.234\n"
     ]
    }
   ],
   "source": [
    "key = 'my_var'\n",
    "value = 1.234\n",
    "formatted = '{} = {}'.format(key, value)\n",
    "print(formatted)"
   ]
  },
  {
   "cell_type": "code",
   "execution_count": 19,
   "id": "2283694e",
   "metadata": {},
   "outputs": [
    {
     "name": "stdout",
     "output_type": "stream",
     "text": [
      "my_var     = 1.23\n"
     ]
    }
   ],
   "source": [
    "formatted = '{:<10} = {:.2f}'.format(key, value)\n",
    "print(formatted)"
   ]
  },
  {
   "cell_type": "code",
   "execution_count": 20,
   "id": "e3e85cfc",
   "metadata": {},
   "outputs": [
    {
     "name": "stdout",
     "output_type": "stream",
     "text": [
      "1.234 = my_var\n"
     ]
    }
   ],
   "source": [
    "formatted = '{1} = {0}'.format(key, value)\n",
    "print(formatted)"
   ]
  },
  {
   "cell_type": "code",
   "execution_count": 21,
   "id": "f3517cd0",
   "metadata": {},
   "outputs": [],
   "source": [
    "for i, (item, count) in enumerate(pantry):\n",
    "    old_style = '#%d: %-10s = %d' % (\n",
    "    i + 1,\n",
    "    item.title(),\n",
    "    round(count))\n",
    "    new_style = '#{}: {:<10s} = {}'.format(\n",
    "    i + 1,\n",
    "    item.title(),\n",
    "    round(count))"
   ]
  },
  {
   "cell_type": "code",
   "execution_count": 22,
   "id": "2246f61b",
   "metadata": {},
   "outputs": [
    {
     "data": {
      "text/plain": [
       "True"
      ]
     },
     "execution_count": 22,
     "metadata": {},
     "output_type": "execute_result"
    }
   ],
   "source": [
    " old_style == new_style"
   ]
  },
  {
   "cell_type": "code",
   "execution_count": 23,
   "id": "fa2b687b",
   "metadata": {},
   "outputs": [
    {
     "name": "stdout",
     "output_type": "stream",
     "text": [
      "my_var = 1.234\n"
     ]
    }
   ],
   "source": [
    "formatted = f'{key} = {value}'\n",
    "print(formatted)"
   ]
  },
  {
   "cell_type": "code",
   "execution_count": 24,
   "id": "b6156d83",
   "metadata": {},
   "outputs": [
    {
     "name": "stdout",
     "output_type": "stream",
     "text": [
      "'my_var'   = 1.23\n"
     ]
    }
   ],
   "source": [
    "formatted = f'{key!r:<10} = {value:.2f}'\n",
    "print(formatted)"
   ]
  },
  {
   "cell_type": "code",
   "execution_count": null,
   "id": "8c861311",
   "metadata": {},
   "outputs": [],
   "source": []
  }
 ],
 "metadata": {
  "kernelspec": {
   "display_name": "Python 3 (ipykernel)",
   "language": "python",
   "name": "python3"
  },
  "language_info": {
   "codemirror_mode": {
    "name": "ipython",
    "version": 3
   },
   "file_extension": ".py",
   "mimetype": "text/x-python",
   "name": "python",
   "nbconvert_exporter": "python",
   "pygments_lexer": "ipython3",
   "version": "3.9.7"
  }
 },
 "nbformat": 4,
 "nbformat_minor": 5
}
