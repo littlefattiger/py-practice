{
 "cells": [
  {
   "cell_type": "code",
   "execution_count": 1,
   "id": "f273dfeb",
   "metadata": {},
   "outputs": [
    {
     "name": "stdout",
     "output_type": "stream",
     "text": [
      "The Zen of Python, by Tim Peters\n",
      "\n",
      "Beautiful is better than ugly.\n",
      "Explicit is better than implicit.\n",
      "Simple is better than complex.\n",
      "Complex is better than complicated.\n",
      "Flat is better than nested.\n",
      "Sparse is better than dense.\n",
      "Readability counts.\n",
      "Special cases aren't special enough to break the rules.\n",
      "Although practicality beats purity.\n",
      "Errors should never pass silently.\n",
      "Unless explicitly silenced.\n",
      "In the face of ambiguity, refuse the temptation to guess.\n",
      "There should be one-- and preferably only one --obvious way to do it.\n",
      "Although that way may not be obvious at first unless you're Dutch.\n",
      "Now is better than never.\n",
      "Although never is often better than *right* now.\n",
      "If the implementation is hard to explain, it's a bad idea.\n",
      "If the implementation is easy to explain, it may be a good idea.\n",
      "Namespaces are one honking great idea -- let's do more of those!\n"
     ]
    }
   ],
   "source": [
    "import this"
   ]
  },
  {
   "cell_type": "code",
   "execution_count": 2,
   "id": "4303fa07",
   "metadata": {},
   "outputs": [
    {
     "name": "stdout",
     "output_type": "stream",
     "text": [
      "Python 3.9.7\n"
     ]
    }
   ],
   "source": [
    "!python --version"
   ]
  },
  {
   "cell_type": "markdown",
   "id": "01df8979",
   "metadata": {},
   "source": [
    "- Python 3 is the most up-to-date and well-supported version of Python, and you should use it for your projects.\n",
    "- Be sure that the command-line executable for running Python on your system is the version you expect it to be.\n",
    "- Avoid Python 2 because it will no longer be maintained after January 1, 2020."
   ]
  },
  {
   "cell_type": "code",
   "execution_count": null,
   "id": "37931974",
   "metadata": {},
   "outputs": [],
   "source": [
    "Whitespace\n",
    "In Python, whitespace is syntactically significant. Python program\u0002mers are especially sensitive to the effects of whitespace on code \n",
    "clarity. Follow these guidelines related to whitespace:\n",
    " ■ Use spaces instead of tabs for indentation.\n",
    " ■ Use four spaces for each level of syntactically significant indenting.\n",
    " ■ Lines should be 79 characters in length or less.\n",
    " ■ Continuations of long expressions onto additional lines should \n",
    "be indented by four extra spaces from their normal indentation \n",
    "level.\n",
    " ■ In a file, functions and classes should be separated by two blank \n",
    "lines.\n",
    " ■ In a class, methods should be separated by one blank line.\n",
    " ■ In a dictionary, put no whitespace between each key and colon, \n",
    "and put a single space before the corresponding value if it fits on \n",
    "the same line.\n",
    " ■ Put one—and only one—space before and after the = operator in a \n",
    "variable assignment.\n",
    " ■ For type annotations, ensure that there is no separation between \n",
    "the variable name and the colon, and use a space before the type \n",
    "information."
   ]
  },
  {
   "cell_type": "code",
   "execution_count": null,
   "id": "e3bd9bff",
   "metadata": {},
   "outputs": [],
   "source": [
    "Naming\n",
    "PEP 8 suggests unique styles of naming for different parts in the \n",
    "language. These conventions make it easy to distinguish which type\n",
    "corresponds to each name when reading code. Follow these guidelines \n",
    "related to naming:\n",
    " ■ Functions, variables, and attributes should be in lowercase_\n",
    "underscore format.\n",
    " ■ Protected instance attributes should be in _leading_underscore\n",
    "format.\n",
    " ■ Private instance attributes should be in __double_leading_\n",
    "underscore format.\n",
    " ■ Classes (including exceptions) should be in CapitalizedWord\n",
    "format.\n",
    " ■ Module-level constants should be in ALL_CAPS format.\n",
    " ■ Instance methods in classes should use self, which refers to the \n",
    "object, as the name of the first parameter.\n",
    " ■ Class methods should use cls, which refers to the class, as the \n",
    "name of the first parameter."
   ]
  },
  {
   "cell_type": "code",
   "execution_count": null,
   "id": "a719f021",
   "metadata": {},
   "outputs": [],
   "source": [
    "Expressions and Statements\n",
    "The Zen of Python states: “There should be one—and preferably only \n",
    "one—obvious way to do it.” PEP 8 attempts to codify this style in its \n",
    "guidance for expressions and statements:\n",
    " ■ Use inline negation (if a is not b) instead of negation of positive \n",
    "expressions (if not a is b).\n",
    " ■ Don’t check for empty containers or sequences (like [] or '') \n",
    "by comparing the length to zero (if len(somelist) == 0). Use \n",
    "if not somelist and assume that empty values will implicitly \n",
    "evaluate to False.\n",
    " ■ The same thing goes for non-empty containers or sequences (like \n",
    "[1] or 'hi'). The statement if somelist is implicitly True for non\u0002empty values.\n",
    " ■ Avoid single-line if statements, for and while loops, and except\n",
    "compound statements. Spread these over multiple lines for \n",
    "clarity.\n",
    " ■ If you can’t fit an expression on one line, surround it with paren\u0002theses and add line breaks and indentation to make it easier to \n",
    "read.\n",
    " ■ Prefer surrounding multiline expressions with parentheses over \n",
    "using the \\ line continuation character."
   ]
  }
 ],
 "metadata": {
  "kernelspec": {
   "display_name": "Python 3 (ipykernel)",
   "language": "python",
   "name": "python3"
  },
  "language_info": {
   "codemirror_mode": {
    "name": "ipython",
    "version": 3
   },
   "file_extension": ".py",
   "mimetype": "text/x-python",
   "name": "python",
   "nbconvert_exporter": "python",
   "pygments_lexer": "ipython3",
   "version": "3.9.7"
  }
 },
 "nbformat": 4,
 "nbformat_minor": 5
}
