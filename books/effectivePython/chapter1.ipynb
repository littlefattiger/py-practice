{
 "cells": [
  {
   "cell_type": "code",
   "execution_count": 1,
   "id": "3f9bf9e3",
   "metadata": {},
   "outputs": [
    {
     "name": "stdout",
     "output_type": "stream",
     "text": [
      "The Zen of Python, by Tim Peters\n",
      "\n",
      "Beautiful is better than ugly.\n",
      "Explicit is better than implicit.\n",
      "Simple is better than complex.\n",
      "Complex is better than complicated.\n",
      "Flat is better than nested.\n",
      "Sparse is better than dense.\n",
      "Readability counts.\n",
      "Special cases aren't special enough to break the rules.\n",
      "Although practicality beats purity.\n",
      "Errors should never pass silently.\n",
      "Unless explicitly silenced.\n",
      "In the face of ambiguity, refuse the temptation to guess.\n",
      "There should be one-- and preferably only one --obvious way to do it.\n",
      "Although that way may not be obvious at first unless you're Dutch.\n",
      "Now is better than never.\n",
      "Although never is often better than *right* now.\n",
      "If the implementation is hard to explain, it's a bad idea.\n",
      "If the implementation is easy to explain, it may be a good idea.\n",
      "Namespaces are one honking great idea -- let's do more of those!\n"
     ]
    }
   ],
   "source": [
    "import this"
   ]
  },
  {
   "cell_type": "code",
   "execution_count": 2,
   "id": "88e53589",
   "metadata": {},
   "outputs": [
    {
     "name": "stdout",
     "output_type": "stream",
     "text": [
      "Python 3.9.7\n"
     ]
    }
   ],
   "source": [
    "!python --version"
   ]
  },
  {
   "cell_type": "markdown",
   "id": "d5a98f4f",
   "metadata": {},
   "source": [
    "- Python 3 is the most up-to-date and well-supported version of Python, and you should use it for your projects.\n",
    "- Be sure that the command-line executable for running Python on your system is the version you expect it to be.\n",
    "- Avoid Python 2 because it will no longer be maintained after January 1, 2020."
   ]
  },
  {
   "cell_type": "code",
   "execution_count": null,
   "id": "9510e611",
   "metadata": {},
   "outputs": [],
   "source": [
    "Whitespace\n",
    "In Python, whitespace is syntactically significant. Python program\u0002mers are especially sensitive to the effects of whitespace on code \n",
    "clarity. Follow these guidelines related to whitespace:\n",
    " ■ Use spaces instead of tabs for indentation.\n",
    " ■ Use four spaces for each level of syntactically significant indenting.\n",
    " ■ Lines should be 79 characters in length or less.\n",
    " ■ Continuations of long expressions onto additional lines should \n",
    "be indented by four extra spaces from their normal indentation \n",
    "level.\n",
    " ■ In a file, functions and classes should be separated by two blank \n",
    "lines.\n",
    " ■ In a class, methods should be separated by one blank line.\n",
    " ■ In a dictionary, put no whitespace between each key and colon, \n",
    "and put a single space before the corresponding value if it fits on \n",
    "the same line.\n",
    " ■ Put one—and only one—space before and after the = operator in a \n",
    "variable assignment.\n",
    " ■ For type annotations, ensure that there is no separation between \n",
    "the variable name and the colon, and use a space before the type \n",
    "information."
   ]
  },
  {
   "cell_type": "code",
   "execution_count": null,
   "id": "760ba3f3",
   "metadata": {},
   "outputs": [],
   "source": [
    "Naming\n",
    "PEP 8 suggests unique styles of naming for different parts in the \n",
    "language. These conventions make it easy to distinguish which type\n",
    "corresponds to each name when reading code. Follow these guidelines \n",
    "related to naming:\n",
    " ■ Functions, variables, and attributes should be in lowercase_\n",
    "underscore format.\n",
    " ■ Protected instance attributes should be in _leading_underscore\n",
    "format.\n",
    " ■ Private instance attributes should be in __double_leading_\n",
    "underscore format.\n",
    " ■ Classes (including exceptions) should be in CapitalizedWord\n",
    "format.\n",
    " ■ Module-level constants should be in ALL_CAPS format.\n",
    " ■ Instance methods in classes should use self, which refers to the \n",
    "object, as the name of the first parameter.\n",
    " ■ Class methods should use cls, which refers to the class, as the \n",
    "name of the first parameter."
   ]
  },
  {
   "cell_type": "code",
   "execution_count": null,
   "id": "4583d587",
   "metadata": {},
   "outputs": [],
   "source": [
    "Expressions and Statements\n",
    "The Zen of Python states: “There should be one—and preferably only \n",
    "one—obvious way to do it.” PEP 8 attempts to codify this style in its \n",
    "guidance for expressions and statements:\n",
    " ■ Use inline negation (if a is not b) instead of negation of positive \n",
    "expressions (if not a is b).\n",
    " ■ Don’t check for empty containers or sequences (like [] or '') \n",
    "by comparing the length to zero (if len(somelist) == 0). Use \n",
    "if not somelist and assume that empty values will implicitly \n",
    "evaluate to False.\n",
    " ■ The same thing goes for non-empty containers or sequences (like \n",
    "[1] or 'hi'). The statement if somelist is implicitly True for non\u0002empty values.\n",
    " ■ Avoid single-line if statements, for and while loops, and except\n",
    "compound statements. Spread these over multiple lines for \n",
    "clarity.\n",
    " ■ If you can’t fit an expression on one line, surround it with paren\u0002theses and add line breaks and indentation to make it easier to \n",
    "read.\n",
    " ■ Prefer surrounding multiline expressions with parentheses over \n",
    "using the \\ line continuation character."
   ]
  },
  {
   "cell_type": "code",
   "execution_count": null,
   "id": "fd4fa5f6",
   "metadata": {},
   "outputs": [],
   "source": [
    "Imports\n",
    "PEP 8 suggests some guidelines for how to import modules and use \n",
    "them in your code:\n",
    " ■ Always put import statements (including from x import y) at the \n",
    "top of a file.\n",
    " ■ Always use absolute names for modules when importing them, not \n",
    "names relative to the current module’s own path. For example, to \n",
    "import the foo module from within the bar package, you should \n",
    "use from bar import foo, not just import foo.\n",
    " ■ If you must do relative imports, use the explicit syntax \n",
    "from . import foo.\n",
    " ■ Imports should be in sections in the following order: standard \n",
    "library modules, third-party modules, your own modules. Each \n",
    "subsection should have imports in alphabetical order."
   ]
  },
  {
   "cell_type": "code",
   "execution_count": 6,
   "id": "d2382233",
   "metadata": {},
   "outputs": [
    {
     "name": "stdout",
     "output_type": "stream",
     "text": [
      "[104, 101, 108, 108, 111]\n",
      "b'hello'\n"
     ]
    }
   ],
   "source": [
    "a = b'h\\x65llo'\n",
    "print(list(a))\n",
    "print(a)"
   ]
  },
  {
   "cell_type": "code",
   "execution_count": 7,
   "id": "56a3c0e9",
   "metadata": {},
   "outputs": [
    {
     "name": "stdout",
     "output_type": "stream",
     "text": [
      "['a', '̀', ' ', 'p', 'r', 'o', 'p', 'o', 's']\n",
      "à propos\n"
     ]
    }
   ],
   "source": [
    "a = 'a\\u0300 propos'\n",
    "print(list(a))\n",
    "print(a)"
   ]
  },
  {
   "cell_type": "code",
   "execution_count": 9,
   "id": "a3cd7a96",
   "metadata": {},
   "outputs": [],
   "source": [
    "def to_str(bytes_or_str):\n",
    "    if isinstance(bytes_or_str, bytes):\n",
    "        value = bytes_or_str.decode('utf-8')\n",
    "    else:\n",
    "        value = bytes_or_str\n",
    "        return value # Instance of str"
   ]
  },
  {
   "cell_type": "code",
   "execution_count": 10,
   "id": "c178f06f",
   "metadata": {},
   "outputs": [
    {
     "name": "stdout",
     "output_type": "stream",
     "text": [
      "None\n",
      "'bar'\n"
     ]
    }
   ],
   "source": [
    "print(repr(to_str(b'foo')))\n",
    "print(repr(to_str('bar')))"
   ]
  },
  {
   "cell_type": "code",
   "execution_count": 11,
   "id": "b34c406b",
   "metadata": {},
   "outputs": [
    {
     "name": "stdout",
     "output_type": "stream",
     "text": [
      "b'foo'\n",
      "None\n"
     ]
    }
   ],
   "source": [
    "def to_bytes(bytes_or_str):\n",
    "    if isinstance(bytes_or_str, str):\n",
    "        value = bytes_or_str.encode('utf-8')\n",
    "    else:\n",
    "        value = bytes_or_str\n",
    "        return value # Instance of bytes\n",
    "print(repr(to_bytes(b'foo')))\n",
    "print(repr(to_bytes('bar')))"
   ]
  },
  {
   "cell_type": "code",
   "execution_count": null,
   "id": "64eb6b54",
   "metadata": {},
   "outputs": [],
   "source": [
    "Things to Remember\n",
    "✦ bytes contains sequences of 8-bit values, and str contains \n",
    "sequences of Unicode code points.\n",
    "✦ Use helper functions to ensure that the inputs you operate on \n",
    "are the type of character sequence that you expect (8-bit values, \n",
    "UTF-8-encoded strings, Unicode code points, etc).\n",
    "✦ bytes and str instances can’t be used together with operators (like \n",
    ">, ==, +, and %).\n",
    "✦ If you want to read or write binary data to/from a file, always open \n",
    "the file using a binary mode (like 'rb' or 'wb').\n",
    "✦ If you want to read or write Unicode data to/from a file, be care\u0002ful about your system’s default text encoding. Explicitly pass the \n",
    "encoding parameter to open if you want to avoid surprises."
   ]
  },
  {
   "cell_type": "code",
   "execution_count": 12,
   "id": "33761a75",
   "metadata": {},
   "outputs": [
    {
     "name": "stdout",
     "output_type": "stream",
     "text": [
      "Binary is 187, hex is 3167\n"
     ]
    }
   ],
   "source": [
    "a = 0b10111011\n",
    "b = 0xc5f\n",
    "print('Binary is %d, hex is %d' % (a, b))"
   ]
  },
  {
   "cell_type": "code",
   "execution_count": 13,
   "id": "d99251de",
   "metadata": {},
   "outputs": [
    {
     "name": "stdout",
     "output_type": "stream",
     "text": [
      "#0: avocados   = 1.25\n",
      "#1: bananas    = 2.50\n",
      "#2: cherries   = 15.00\n"
     ]
    }
   ],
   "source": [
    "pantry = [\n",
    " ('avocados', 1.25),\n",
    " ('bananas', 2.5),\n",
    " ('cherries', 15),\n",
    "]\n",
    "for i, (item, count) in enumerate(pantry):\n",
    "    print('#%d: %-10s = %.2f' % (i, item, count))"
   ]
  },
  {
   "cell_type": "code",
   "execution_count": 14,
   "id": "1aaf3344",
   "metadata": {},
   "outputs": [],
   "source": [
    "key = 'my_var'\n",
    "value = 1.234\n",
    "old_way = '%-10s = %.2f' % (key, value)\n",
    "new_way = '%(key)-10s = %(value).2f' % {\n",
    " 'key': key, 'value': value} # Original\n",
    "reordered = '%(key)-10s = %(value).2f' % {\n",
    " 'value': value, 'key': key} # Swapped"
   ]
  },
  {
   "cell_type": "code",
   "execution_count": 16,
   "id": "ccb2a856",
   "metadata": {},
   "outputs": [
    {
     "data": {
      "text/plain": [
       "True"
      ]
     },
     "execution_count": 16,
     "metadata": {},
     "output_type": "execute_result"
    }
   ],
   "source": [
    "old_way == new_way == reordered"
   ]
  },
  {
   "cell_type": "code",
   "execution_count": 17,
   "id": "d604486a",
   "metadata": {},
   "outputs": [
    {
     "name": "stdout",
     "output_type": "stream",
     "text": [
      "1,234.57\n",
      "*      my string       *\n"
     ]
    }
   ],
   "source": [
    "a = 1234.5678\n",
    "formatted = format(a, ',.2f')\n",
    "print(formatted)\n",
    "b = 'my string'\n",
    "formatted = format(b, '^20s')\n",
    "print('*', formatted, '*')"
   ]
  },
  {
   "cell_type": "code",
   "execution_count": 18,
   "id": "6ba97e2a",
   "metadata": {},
   "outputs": [
    {
     "name": "stdout",
     "output_type": "stream",
     "text": [
      "my_var = 1.234\n"
     ]
    }
   ],
   "source": [
    "key = 'my_var'\n",
    "value = 1.234\n",
    "formatted = '{} = {}'.format(key, value)\n",
    "print(formatted)"
   ]
  },
  {
   "cell_type": "code",
   "execution_count": 19,
   "id": "efc942fc",
   "metadata": {},
   "outputs": [
    {
     "name": "stdout",
     "output_type": "stream",
     "text": [
      "my_var     = 1.23\n"
     ]
    }
   ],
   "source": [
    "formatted = '{:<10} = {:.2f}'.format(key, value)\n",
    "print(formatted)"
   ]
  },
  {
   "cell_type": "code",
   "execution_count": 20,
   "id": "ce26eddc",
   "metadata": {},
   "outputs": [
    {
     "name": "stdout",
     "output_type": "stream",
     "text": [
      "1.234 = my_var\n"
     ]
    }
   ],
   "source": [
    "formatted = '{1} = {0}'.format(key, value)\n",
    "print(formatted)"
   ]
  },
  {
   "cell_type": "code",
   "execution_count": 21,
   "id": "a2d6d3d3",
   "metadata": {},
   "outputs": [],
   "source": [
    "for i, (item, count) in enumerate(pantry):\n",
    "    old_style = '#%d: %-10s = %d' % (\n",
    "    i + 1,\n",
    "    item.title(),\n",
    "    round(count))\n",
    "    new_style = '#{}: {:<10s} = {}'.format(\n",
    "    i + 1,\n",
    "    item.title(),\n",
    "    round(count))"
   ]
  },
  {
   "cell_type": "code",
   "execution_count": 22,
   "id": "9175e5d2",
   "metadata": {},
   "outputs": [
    {
     "data": {
      "text/plain": [
       "True"
      ]
     },
     "execution_count": 22,
     "metadata": {},
     "output_type": "execute_result"
    }
   ],
   "source": [
    " old_style == new_style"
   ]
  },
  {
   "cell_type": "code",
   "execution_count": 23,
   "id": "de48339c",
   "metadata": {},
   "outputs": [
    {
     "name": "stdout",
     "output_type": "stream",
     "text": [
      "my_var = 1.234\n"
     ]
    }
   ],
   "source": [
    "formatted = f'{key} = {value}'\n",
    "print(formatted)"
   ]
  },
  {
   "cell_type": "code",
   "execution_count": 24,
   "id": "a7775a63",
   "metadata": {},
   "outputs": [
    {
     "name": "stdout",
     "output_type": "stream",
     "text": [
      "'my_var'   = 1.23\n"
     ]
    }
   ],
   "source": [
    "formatted = f'{key!r:<10} = {value:.2f}'\n",
    "print(formatted)"
   ]
  },
  {
   "cell_type": "code",
   "execution_count": 25,
   "id": "aa9c57be",
   "metadata": {},
   "outputs": [],
   "source": [
    "f_string = f'{key:<10} = {value:.2f}'\n",
    "c_tuple = '%-10s = %.2f' % (key, value)\n",
    "str_args = '{:<10} = {:.2f}'.format(key, value)\n",
    "str_kw = '{key:<10} = {value:.2f}'.format(key=key,\n",
    " value=value)\n",
    "c_dict = '%(key)-10s = %(value).2f' % {'key': key,\n",
    " 'value': value}"
   ]
  },
  {
   "cell_type": "code",
   "execution_count": 1,
   "id": "770abaca",
   "metadata": {},
   "outputs": [
    {
     "name": "stdout",
     "output_type": "stream",
     "text": [
      "{'red': ['5'], 'blue': ['0'], 'green': ['']}\n"
     ]
    }
   ],
   "source": [
    "from urllib.parse import parse_qs\n",
    "my_values = parse_qs('red=5&blue=0&green=',keep_blank_values=True)\n",
    "print(repr(my_values))"
   ]
  },
  {
   "cell_type": "code",
   "execution_count": 2,
   "id": "d1a4229d",
   "metadata": {},
   "outputs": [
    {
     "name": "stdout",
     "output_type": "stream",
     "text": [
      "Red:  ['5']\n",
      "Green:  ['']\n",
      "Opacity:  None\n"
     ]
    }
   ],
   "source": [
    "print('Red: ', my_values.get('red'))\n",
    "print('Green: ', my_values.get('green'))\n",
    "print('Opacity: ', my_values.get('opacity'))"
   ]
  },
  {
   "cell_type": "code",
   "execution_count": 3,
   "id": "b9549c35",
   "metadata": {},
   "outputs": [
    {
     "name": "stdout",
     "output_type": "stream",
     "text": [
      "Red: '5'\n",
      "Green: 0\n",
      "Opacity: 0\n"
     ]
    }
   ],
   "source": [
    "# For query string 'red=5&blue=0&green='\n",
    "red = my_values.get('red', [''])[0] or 0\n",
    "green = my_values.get('green', [''])[0] or 0\n",
    "opacity = my_values.get('opacity', [''])[0] or 0\n",
    "print(f'Red: {red!r}')\n",
    "print(f'Green: {green!r}')\n",
    "print(f'Opacity: {opacity!r}')"
   ]
  },
  {
   "cell_type": "code",
   "execution_count": 5,
   "id": "96af5de1",
   "metadata": {},
   "outputs": [
    {
     "data": {
      "text/plain": [
       "5"
      ]
     },
     "execution_count": 5,
     "metadata": {},
     "output_type": "execute_result"
    }
   ],
   "source": [
    "red_str = my_values.get('red', [''])\n",
    "red = int(red_str[0]) if red_str[0] else 0\n",
    "red"
   ]
  },
  {
   "cell_type": "code",
   "execution_count": 6,
   "id": "66780148",
   "metadata": {},
   "outputs": [
    {
     "name": "stdout",
     "output_type": "stream",
     "text": [
      "Peanut butter and Jelly\n"
     ]
    }
   ],
   "source": [
    "item = ('Peanut butter', 'Jelly')\n",
    "first, second = item # Unpacking\n",
    "print(first, 'and', second)"
   ]
  },
  {
   "cell_type": "code",
   "execution_count": null,
   "id": "1ac4f470",
   "metadata": {},
   "outputs": [],
   "source": [
    "def bubble_sort(a):\n",
    "    for _ in range(len(a)):\n",
    "        for i in range(1, len(a)):\n",
    "            if a[i] < a[i-1]:\n",
    "                a[i-1], a[i] = a[i], a[i-1] # Swap"
   ]
  },
  {
   "cell_type": "code",
   "execution_count": 7,
   "id": "68264f47",
   "metadata": {},
   "outputs": [
    {
     "name": "stdout",
     "output_type": "stream",
     "text": [
      "#1: bacon has 350 calories\n",
      "#2: donut has 240 calories\n",
      "#3: muffin has 190 calories\n"
     ]
    }
   ],
   "source": [
    "snacks = [('bacon', 350), ('donut', 240), ('muffin', 190)]\n",
    "for rank, (name, calories) in enumerate(snacks, 1):\n",
    "    print(f'#{rank}: {name} has {calories} calories')"
   ]
  },
  {
   "cell_type": "code",
   "execution_count": 8,
   "id": "ddd6c99b",
   "metadata": {},
   "outputs": [
    {
     "name": "stdout",
     "output_type": "stream",
     "text": [
      "1: vanilla\n",
      "2: chocolate\n",
      "3: pecan\n",
      "4: strawberry\n"
     ]
    }
   ],
   "source": [
    "flavor_list = ['vanilla', 'chocolate', 'pecan', 'strawberry']\n",
    "for i, flavor in enumerate(flavor_list, 1):\n",
    "    print(f'{i}: {flavor}')"
   ]
  },
  {
   "cell_type": "code",
   "execution_count": 9,
   "id": "409e27d4",
   "metadata": {},
   "outputs": [
    {
     "name": "stdout",
     "output_type": "stream",
     "text": [
      "Cecilia\n",
      "Lise\n",
      "Marie\n"
     ]
    }
   ],
   "source": [
    "names = ['Cecilia', 'Lise', 'Marie']\n",
    "counts = [len(n) for n in names]\n",
    "longest_name = None\n",
    "max_count = 0\n",
    "names.append('Rosalind')\n",
    "for name, count in zip(names, counts):\n",
    "    print(name)\n",
    "\n",
    "# The new item for 'Rosalind' isn’t there. Why not? This is just how \n",
    "# zip works. It keeps yielding tuples until any one of the wrapped iter\u0002ators is exhausted. Its output is as long as its shortest input. T"
   ]
  },
  {
   "cell_type": "code",
   "execution_count": 10,
   "id": "28512abe",
   "metadata": {},
   "outputs": [
    {
     "name": "stdout",
     "output_type": "stream",
     "text": [
      "Cecilia: 7\n",
      "Lise: 4\n",
      "Marie: 5\n",
      "Rosalind: None\n"
     ]
    }
   ],
   "source": [
    "import itertools\n",
    "for name, count in itertools.zip_longest(names, counts):\n",
    "    print(f'{name}: {count}')"
   ]
  },
  {
   "cell_type": "code",
   "execution_count": 11,
   "id": "c721a831",
   "metadata": {},
   "outputs": [
    {
     "name": "stdout",
     "output_type": "stream",
     "text": [
      "Loop 0\n",
      "Loop 1\n"
     ]
    }
   ],
   "source": [
    "for i in range(3):\n",
    "    print('Loop', i)\n",
    "    if i == 1:\n",
    "        break\n",
    "else:\n",
    "    print('Else block!')"
   ]
  },
  {
   "cell_type": "code",
   "execution_count": 12,
   "id": "61ad100f",
   "metadata": {},
   "outputs": [
    {
     "name": "stdout",
     "output_type": "stream",
     "text": [
      "For Else block!\n"
     ]
    }
   ],
   "source": [
    "for x in []:\n",
    "    print('Never runs')\n",
    "else:\n",
    "    print('For Else block!')"
   ]
  },
  {
   "cell_type": "code",
   "execution_count": 13,
   "id": "6c083be9",
   "metadata": {},
   "outputs": [
    {
     "name": "stdout",
     "output_type": "stream",
     "text": [
      "While Else block!\n"
     ]
    }
   ],
   "source": [
    "while False:\n",
    "    print('Never runs')\n",
    "else:\n",
    "    print('While Else block!')"
   ]
  },
  {
   "cell_type": "code",
   "execution_count": 14,
   "id": "f73c5d0f",
   "metadata": {},
   "outputs": [
    {
     "name": "stdout",
     "output_type": "stream",
     "text": [
      "Testing 2\n",
      "Testing 3\n",
      "Testing 4\n",
      "Coprime\n"
     ]
    }
   ],
   "source": [
    "a = 4\n",
    "b = 9\n",
    "for i in range(2, min(a, b) + 1):\n",
    "    print('Testing', i)\n",
    "    if a % i == 0 and b % i == 0:\n",
    "        print('Not coprime')\n",
    "        break\n",
    "else:\n",
    "    print('Coprime')"
   ]
  },
  {
   "cell_type": "code",
   "execution_count": 17,
   "id": "717881a4",
   "metadata": {},
   "outputs": [
    {
     "data": {
      "text/plain": [
       "False"
      ]
     },
     "execution_count": 17,
     "metadata": {},
     "output_type": "execute_result"
    }
   ],
   "source": [
    "def coprime(a, b):\n",
    "    for i in range(2, min(a, b) + 1):\n",
    "        if a % i == 0 and b % i == 0:\n",
    "            return False\n",
    "        return True\n",
    "coprime(4, 9)\n",
    "not coprime(3, 6)"
   ]
  },
  {
   "cell_type": "code",
   "execution_count": null,
   "id": "495fd33e",
   "metadata": {},
   "outputs": [],
   "source": [
    "fresh_fruit = {\n",
    " 'apple': 10,\n",
    " 'banana': 8,\n",
    " 'lemon': 5,\n",
    "}\n",
    "if count := fresh_fruit.get('lemon', 0):\n",
    "    make_lemonade(count)\n",
    "else:\n",
    "    out_of_stock()"
   ]
  },
  {
   "cell_type": "code",
   "execution_count": null,
   "id": "024e7820",
   "metadata": {},
   "outputs": [],
   "source": [
    "if (count := fresh_fruit.get('banana', 0)) >= 2:\n",
    "    pieces = slice_bananas(count)\n",
    "else:\n",
    "    pieces = 0\n",
    "try:\n",
    "    smoothies = make_smoothies(pieces)\n",
    "except OutOfBananas:\n",
    "    out_of_stock()"
   ]
  }
 ],
 "metadata": {
  "kernelspec": {
   "display_name": "Python 3 (ipykernel)",
   "language": "python",
   "name": "python3"
  },
  "language_info": {
   "codemirror_mode": {
    "name": "ipython",
    "version": 3
   },
   "file_extension": ".py",
   "mimetype": "text/x-python",
   "name": "python",
   "nbconvert_exporter": "python",
   "pygments_lexer": "ipython3",
   "version": "3.9.7"
  }
 },
 "nbformat": 4,
 "nbformat_minor": 5
}
