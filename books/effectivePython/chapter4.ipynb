{
 "cells": [
  {
   "cell_type": "code",
   "execution_count": 1,
   "id": "077eeb67",
   "metadata": {},
   "outputs": [
    {
     "name": "stdout",
     "output_type": "stream",
     "text": [
      "[1, 4, 9, 16, 25, 36, 49, 64, 81, 100]\n"
     ]
    }
   ],
   "source": [
    "a = [1, 2, 3, 4, 5, 6, 7, 8, 9, 10]\n",
    "squares = [x**2 for x in a] # List comprehension\n",
    "print(squares)"
   ]
  },
  {
   "cell_type": "code",
   "execution_count": 2,
   "id": "3d97f8b6",
   "metadata": {},
   "outputs": [],
   "source": [
    "alt = map(lambda x: x ** 2, a)"
   ]
  },
  {
   "cell_type": "code",
   "execution_count": 3,
   "id": "189b26fc",
   "metadata": {},
   "outputs": [],
   "source": [
    "stock = {\n",
    " 'nails': 125,\n",
    " 'screws': 35,\n",
    " 'wingnuts': 8,\n",
    " 'washers': 24,\n",
    "}\n",
    "order = ['screws', 'wingnuts', 'clips']\n",
    "def get_batches(count, size):\n",
    "    return count // size"
   ]
  },
  {
   "cell_type": "code",
   "execution_count": 4,
   "id": "84a17084",
   "metadata": {},
   "outputs": [
    {
     "name": "stdout",
     "output_type": "stream",
     "text": [
      "{'screws': 4, 'wingnuts': 1}\n"
     ]
    }
   ],
   "source": [
    "found = {name: get_batches(stock.get(name, 0), 8)\n",
    " for name in order\n",
    " if get_batches(stock.get(name, 0), 8)}\n",
    "print(found)"
   ]
  },
  {
   "cell_type": "code",
   "execution_count": 6,
   "id": "0c06c341",
   "metadata": {},
   "outputs": [
    {
     "data": {
      "text/plain": [
       "{'screws': 4, 'wingnuts': 1}"
      ]
     },
     "execution_count": 6,
     "metadata": {},
     "output_type": "execute_result"
    }
   ],
   "source": [
    "found = {name: batches for name in order\n",
    " if (batches := get_batches(stock.get(name, 0), 8))}\n",
    "found"
   ]
  },
  {
   "cell_type": "code",
   "execution_count": 7,
   "id": "be8be0d3",
   "metadata": {},
   "outputs": [
    {
     "ename": "NameError",
     "evalue": "name 'tenth' is not defined",
     "output_type": "error",
     "traceback": [
      "\u001b[1;31m---------------------------------------------------------------------------\u001b[0m",
      "\u001b[1;31mNameError\u001b[0m                                 Traceback (most recent call last)",
      "\u001b[1;32mC:\\Users\\JUNCHI~1\\AppData\\Local\\Temp/ipykernel_13804/267118243.py\u001b[0m in \u001b[0;36m<module>\u001b[1;34m\u001b[0m\n\u001b[1;32m----> 1\u001b[1;33m result = {name: (tenth := count // 10)\n\u001b[0m\u001b[0;32m      2\u001b[0m  for name, count in stock.items() if tenth > 0}\n",
      "\u001b[1;32mC:\\Users\\JUNCHI~1\\AppData\\Local\\Temp/ipykernel_13804/267118243.py\u001b[0m in \u001b[0;36m<dictcomp>\u001b[1;34m(.0)\u001b[0m\n\u001b[0;32m      1\u001b[0m result = {name: (tenth := count // 10)\n\u001b[1;32m----> 2\u001b[1;33m  for name, count in stock.items() if tenth > 0}\n\u001b[0m",
      "\u001b[1;31mNameError\u001b[0m: name 'tenth' is not defined"
     ]
    }
   ],
   "source": [
    "result = {name: (tenth := count // 10)\n",
    " for name, count in stock.items() if tenth > 0}"
   ]
  },
  {
   "cell_type": "code",
   "execution_count": 8,
   "id": "d2a42bff",
   "metadata": {},
   "outputs": [
    {
     "name": "stdout",
     "output_type": "stream",
     "text": [
      "{'nails': 12, 'screws': 3, 'washers': 2}\n"
     ]
    }
   ],
   "source": [
    "result = {name: tenth for name, count in stock.items()\n",
    " if (tenth := count // 10) > 0}\n",
    "print(result)"
   ]
  },
  {
   "cell_type": "code",
   "execution_count": 9,
   "id": "91ebb348",
   "metadata": {},
   "outputs": [
    {
     "name": "stdout",
     "output_type": "stream",
     "text": [
      "('screws', 4)\n",
      "('wingnuts', 1)\n"
     ]
    }
   ],
   "source": [
    "found = ((name, batches) for name in order\n",
    " if (batches := get_batches(stock.get(name, 0), 8)))\n",
    "print(next(found))\n",
    "print(next(found))"
   ]
  },
  {
   "cell_type": "code",
   "execution_count": 10,
   "id": "fc37b40d",
   "metadata": {},
   "outputs": [],
   "source": [
    "def index_words_iter(text):\n",
    "    if text:\n",
    "        yield 0\n",
    "    for index, letter in enumerate(text):\n",
    "        if letter == ' ':\n",
    "            yield index + 1"
   ]
  },
  {
   "cell_type": "code",
   "execution_count": 12,
   "id": "b5374d30",
   "metadata": {},
   "outputs": [],
   "source": [
    "address = 'Four score and seven years ago...'"
   ]
  },
  {
   "cell_type": "code",
   "execution_count": 13,
   "id": "fb1e27ce",
   "metadata": {},
   "outputs": [],
   "source": [
    "it = index_words_iter(address)"
   ]
  },
  {
   "cell_type": "code",
   "execution_count": 16,
   "id": "494e84a8",
   "metadata": {},
   "outputs": [
    {
     "name": "stdout",
     "output_type": "stream",
     "text": [
      "11\n"
     ]
    }
   ],
   "source": [
    "print(next(it))"
   ]
  },
  {
   "cell_type": "code",
   "execution_count": null,
   "id": "6659eac4",
   "metadata": {},
   "outputs": [],
   "source": [
    "it = (len(x) for x in open('my_file.txt'))"
   ]
  },
  {
   "cell_type": "code",
   "execution_count": null,
   "id": "e376915c",
   "metadata": {},
   "outputs": [],
   "source": [
    "print(next(it))\n",
    "print(next(it))"
   ]
  },
  {
   "cell_type": "code",
   "execution_count": 17,
   "id": "b0b1c99c",
   "metadata": {},
   "outputs": [],
   "source": [
    "def move(period, speed):\n",
    "    for _ in range(period):\n",
    "        yield speed\n",
    "def pause(delay):\n",
    "    for _ in range(delay):\n",
    "        yield 0"
   ]
  },
  {
   "cell_type": "code",
   "execution_count": null,
   "id": "bd8a1fcd",
   "metadata": {},
   "outputs": [],
   "source": [
    "def animate():\n",
    " for delta in move(4, 5.0):\n",
    " yield delta\n",
    " for delta in pause(3):\n",
    " yield delta\n",
    " for delta in move(2, 3.0):\n",
    " yield delta"
   ]
  },
  {
   "cell_type": "code",
   "execution_count": null,
   "id": "bce52c12",
   "metadata": {},
   "outputs": [],
   "source": [
    "def render(delta):\n",
    " print(f'Delta: {delta:.1f}')\n",
    " # Move the images onscreen\n",
    " ...\n",
    "def run(func):\n",
    " for delta in func():\n",
    " render(delta)"
   ]
  },
  {
   "cell_type": "code",
   "execution_count": null,
   "id": "fb5bc1ef",
   "metadata": {},
   "outputs": [],
   "source": [
    "def animate_composed():\n",
    "    yield from move(4, 5.0)\n",
    "    yield from pause(3)\n",
    "    yield from move(2, 3.0)\n",
    "run(animate_composed)"
   ]
  },
  {
   "cell_type": "code",
   "execution_count": 19,
   "id": "d66f817e",
   "metadata": {},
   "outputs": [
    {
     "name": "stdout",
     "output_type": "stream",
     "text": [
      "[1, 2, 3, 4, 5, 6]\n"
     ]
    }
   ],
   "source": [
    "import itertools\n",
    "it = itertools.chain([1, 2, 3], [4, 5, 6])\n",
    "print(list(it))"
   ]
  },
  {
   "cell_type": "code",
   "execution_count": 20,
   "id": "43f1cbb0",
   "metadata": {},
   "outputs": [
    {
     "name": "stdout",
     "output_type": "stream",
     "text": [
      "['hello', 'hello', 'hello']\n"
     ]
    }
   ],
   "source": [
    "it = itertools.repeat('hello', 3)\n",
    "print(list(it))"
   ]
  },
  {
   "cell_type": "code",
   "execution_count": 21,
   "id": "fba59732",
   "metadata": {},
   "outputs": [
    {
     "name": "stdout",
     "output_type": "stream",
     "text": [
      "[(1, 2), (1, 3), (1, 4), (2, 3), (2, 4), (3, 4)]\n"
     ]
    }
   ],
   "source": [
    "it = itertools.combinations([1, 2, 3, 4], 2)\n",
    "print(list(it))"
   ]
  },
  {
   "cell_type": "code",
   "execution_count": 22,
   "id": "251d109c",
   "metadata": {},
   "outputs": [
    {
     "name": "stdout",
     "output_type": "stream",
     "text": [
      "[(1, 2), (1, 3), (1, 4), (2, 1), (2, 3), (2, 4), (3, 1), (3, 2), (3, 4), (4, 1), (4, 2), (4, 3)]\n"
     ]
    }
   ],
   "source": [
    "it = itertools.permutations([1, 2, 3, 4], 2)\n",
    "print(list(it))"
   ]
  },
  {
   "cell_type": "code",
   "execution_count": null,
   "id": "d335e6dd",
   "metadata": {},
   "outputs": [],
   "source": []
  }
 ],
 "metadata": {
  "kernelspec": {
   "display_name": "Python 3 (ipykernel)",
   "language": "python",
   "name": "python3"
  },
  "language_info": {
   "codemirror_mode": {
    "name": "ipython",
    "version": 3
   },
   "file_extension": ".py",
   "mimetype": "text/x-python",
   "name": "python",
   "nbconvert_exporter": "python",
   "pygments_lexer": "ipython3",
   "version": "3.9.7"
  }
 },
 "nbformat": 4,
 "nbformat_minor": 5
}
